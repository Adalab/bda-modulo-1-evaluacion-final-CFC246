{
 "cells": [
  {
   "cell_type": "markdown",
   "metadata": {},
   "source": [
    "# CFC246 / Module 1: Final evaluation"
   ]
  },
  {
   "cell_type": "markdown",
   "metadata": {},
   "source": [
    "#### Create a Class for a Shop"
   ]
  },
  {
   "cell_type": "markdown",
   "metadata": {},
   "source": [
    "- The aim of this final exercise is to create a class that works as a layout to build our own shop. This will give us an insight into what we need to improve in our learning process."
   ]
  },
  {
   "cell_type": "code",
   "execution_count": null,
   "metadata": {},
   "outputs": [
    {
     "ename": "SyntaxError",
     "evalue": "invalid syntax (2886791413.py, line 64)",
     "output_type": "error",
     "traceback": [
      "\u001b[1;36m  Cell \u001b[1;32mIn[13], line 64\u001b[1;36m\u001b[0m\n\u001b[1;33m    def\u001b[0m\n\u001b[1;37m        ^\u001b[0m\n\u001b[1;31mSyntaxError\u001b[0m\u001b[1;31m:\u001b[0m invalid syntax\n"
     ]
    }
   ],
   "source": [
    "# 0. We're going to define our class to create our own shop, or any shop for that matter. \n",
    "    # We need to create a class and its functions(methods) and objetc to run every aspect of our shop. \n",
    "    # From creating our inventory, to updating it, and to deal with the transactions.\n",
    "\n",
    "class OnlineShop :               # Class name with first letter of each word capitalised\n",
    "    def __init__(self):          # Class is built with the constructor \"__init__\" #function or method\n",
    "        self.inventory = []      # Inventory attribute # this empty list will allocate the future objects(products) described by a dictionary.\n",
    "        self.customers = {}      # Customers attribute # this empty list will allocate the future objects(clients) described by a dictionary\n",
    "        self.totalsales = 0.0    # Total sales attribute #need to be 0 and described with a float\n",
    "\n",
    "# 1. Add a product to the inventory:      \n",
    "    def add_products (self, name, price, quantity):   # first function or method to add objects/products to our inventory. Products must have these parameters.\n",
    "        for product in self.inventory:                # check object in attribute\n",
    "            if product [\"name\"] == name:              # product starts to iterate through the list of dictionaries, will stop if the key value is the same \n",
    "                product [\"quantity\"] += quantity      # and add the quantity of the same product.\n",
    "                return\n",
    "        new_product = {\"name\":name, \"price\":price, \"quantity\":quantity}         # if the product is not in inventory\n",
    "        self.inventory.append(new_product)                                      # method to add the new product (object)\n",
    "\n",
    "# 2.Show the inventory and their details:\n",
    "    def show_inventory (self): \n",
    "        for product in self.inventory:\n",
    "            print(f\"name: {product['name']}, Price: {product['price']}, Quantity: {product['quantity']}\")\n",
    "\n",
    "# 3. Find product by its name and show their details:\n",
    "    def find_product (self, name): \n",
    "        for product in self.inventory:\n",
    "            if product [\"name\"] == name:\n",
    "                print(f\"name: {product['name']}, Price: {product['price']}, Quantity: {product['quantity']}\")\n",
    "                return\n",
    "        print(\"Not available\")\n",
    "\n",
    "# 4. Update the stock. Give the name of the product and quantities to update.         \n",
    "    def update_stock (self, name, quantity): \n",
    "        for product in self.inventory:\n",
    "            if product [\"name\"] == name:\n",
    "                product [\"quantity\"] += quantity\n",
    "                print(f\"Product {name} updated in stock; current quantity {quantity}\")\n",
    "                return\n",
    "            \n",
    "# 5. Remove product from stock. Name as a parameter.          \n",
    "    def remove_stock (self, name):  \n",
    "        for product in self.inventory:\n",
    "            if product [\"name\"] == name:\n",
    "                self.inventory.remove (product)\n",
    "                print (f\"{product} was remove from the shop inventory\")\n",
    "            if product [\"name\"] != name:\n",
    "                print(f\"Product not found\")\n",
    "                return\n",
    "            \n",
    "# 6. Calculate the value of the whole stock.              \n",
    "    def value_stock (self): \n",
    "        inventory_value = 0.0\n",
    "        for product in self.inventory:\n",
    "           product_value = product[\"price\"] * product[\"quantity\"]\n",
    "           inventory_value += product_value\n",
    "           print(f\"Total value of my inventory is {inventory_value}\")\n",
    "\n",
    "# 7. Checkout. Customer will be able to buy an item.\n",
    "    def checkout (self):\n",
    "        kart = {}  # se llena de despues / es un diccionario vacío\n",
    "        total_shop = 0 # se suma despues\n",
    "        while True:\n",
    "            self.show_inventory()\n",
    "            name = input( \"what would you like to shop today? Press 'finish' to end your shopping\")\n",
    "            if name == \"finish\":\n",
    "                break\n",
    "            else:\n",
    "                quantity = int(input(\"How many items do you want to purchase?\"))\n",
    "                for product in self.inventory:\n",
    "                    if name == product[\"name\"]:\n",
    "                        if product[\"quantity\"] >= quantity:\n",
    "                            kart.update({\"name\":name, \"quantity\":quantity})\n",
    "                            total_shop += product[\"price\"] * quantity\n",
    "                            print(f\"These are the products in your {kart} with a total of {total_shop}Euros\")\n",
    "                        else:\n",
    "                            print(\"We don't have stock at the moment :/ \")\n",
    "# 8. \n",
    "    def \n",
    "\n",
    "# 9.   Add customer. Use mane & email as parameters. Add to customers dic another one with key = name, and value = {\"email\":email, \"purchases\":[]}\n",
    "    def add_customer (self, name, email):\n",
    "        for name in self.customers:\n",
    "            print(\"Customer already registered\")\n",
    "        else:\n",
    "            self.customers[name] = {'email': email, 'purchases': []}\n",
    "\n",
    "\n",
    "# 10. \n",
    "    def \n",
    "\n",
    "# 11. \n",
    "    def \n",
    "\n",
    "# 12. \n",
    "    def\n",
    "\n",
    "# 13. \n",
    "    def \n",
    " "
   ]
  },
  {
   "cell_type": "markdown",
   "metadata": {},
   "source": [
    "####  Review all instances of our class OnlineShop with our own shop ShopCFC246"
   ]
  },
  {
   "cell_type": "code",
   "execution_count": null,
   "metadata": {},
   "outputs": [
    {
     "ename": "NameError",
     "evalue": "name 'OnlineShop' is not defined",
     "output_type": "error",
     "traceback": [
      "\u001b[1;31m---------------------------------------------------------------------------\u001b[0m",
      "\u001b[1;31mNameError\u001b[0m                                 Traceback (most recent call last)",
      "Cell \u001b[1;32mIn[12], line 1\u001b[0m\n\u001b[1;32m----> 1\u001b[0m shopCFC246 \u001b[38;5;241m=\u001b[39m \u001b[43mOnlineShop\u001b[49m()\n\u001b[0;32m      2\u001b[0m \u001b[38;5;28mprint\u001b[39m(shopCFC246\u001b[38;5;241m.\u001b[39minventory)\n",
      "\u001b[1;31mNameError\u001b[0m: name 'OnlineShop' is not defined"
     ]
    }
   ],
   "source": [
    "shopCFC246 = OnlineShop()\n",
    "print(shopCFC246.inventory)"
   ]
  },
  {
   "cell_type": "code",
   "execution_count": null,
   "metadata": {},
   "outputs": [
    {
     "ename": "NameError",
     "evalue": "name 'OnlineShop' is not defined",
     "output_type": "error",
     "traceback": [
      "\u001b[1;31m---------------------------------------------------------------------------\u001b[0m",
      "\u001b[1;31mNameError\u001b[0m                                 Traceback (most recent call last)",
      "Cell \u001b[1;32mIn[7], line 1\u001b[0m\n\u001b[1;32m----> 1\u001b[0m shopCFC246 \u001b[38;5;241m=\u001b[39m \u001b[43mOnlineShop\u001b[49m()\n\u001b[0;32m      2\u001b[0m \u001b[38;5;28mprint\u001b[39m(shopCFC246\u001b[38;5;241m.\u001b[39minventory)\n",
      "\u001b[1;31mNameError\u001b[0m: name 'OnlineShop' is not defined"
     ]
    }
   ],
   "source": [
    "shopCFC246 = OnlineShop()\n",
    "print(shopCFC246.inventory)"
   ]
  },
  {
   "cell_type": "code",
   "execution_count": null,
   "metadata": {},
   "outputs": [
    {
     "ename": "NameError",
     "evalue": "name 'shopCFC246' is not defined",
     "output_type": "error",
     "traceback": [
      "\u001b[1;31m---------------------------------------------------------------------------\u001b[0m",
      "\u001b[1;31mNameError\u001b[0m                                 Traceback (most recent call last)",
      "Cell \u001b[1;32mIn[8], line 3\u001b[0m\n\u001b[0;32m      1\u001b[0m \u001b[38;5;66;03m# 1 Check:\u001b[39;00m\n\u001b[1;32m----> 3\u001b[0m \u001b[43mshopCFC246\u001b[49m\u001b[38;5;241m.\u001b[39madd_products (\u001b[38;5;124m\"\u001b[39m\u001b[38;5;124maeonium\u001b[39m\u001b[38;5;124m\"\u001b[39m, \u001b[38;5;241m10.1\u001b[39m, \u001b[38;5;241m24\u001b[39m)\n\u001b[0;32m      4\u001b[0m \u001b[38;5;28mprint\u001b[39m(shopCFC246\u001b[38;5;241m.\u001b[39minventory)\n",
      "\u001b[1;31mNameError\u001b[0m: name 'shopCFC246' is not defined"
     ]
    }
   ],
   "source": [
    "# 1 Check:\n",
    "shopCFC246.add_products (\"aeonium\", 10.1, 24)\n",
    "print(shopCFC246.inventory)\n"
   ]
  },
  {
   "cell_type": "code",
   "execution_count": null,
   "metadata": {},
   "outputs": [
    {
     "ename": "NameError",
     "evalue": "name 'shopCFC246' is not defined",
     "output_type": "error",
     "traceback": [
      "\u001b[1;31m---------------------------------------------------------------------------\u001b[0m",
      "\u001b[1;31mNameError\u001b[0m                                 Traceback (most recent call last)",
      "Cell \u001b[1;32mIn[9], line 2\u001b[0m\n\u001b[0;32m      1\u001b[0m \u001b[38;5;66;03m#Check nº 2\u001b[39;00m\n\u001b[1;32m----> 2\u001b[0m \u001b[43mshopCFC246\u001b[49m\u001b[38;5;241m.\u001b[39mshow_inventory () \n\u001b[0;32m      3\u001b[0m \u001b[38;5;28mprint\u001b[39m(shopCFC246\u001b[38;5;241m.\u001b[39minventory)\n",
      "\u001b[1;31mNameError\u001b[0m: name 'shopCFC246' is not defined"
     ]
    }
   ],
   "source": [
    "#Check nº 2\n",
    "shopCFC246.show_inventory () \n",
    "print(shopCFC246.inventory)"
   ]
  },
  {
   "cell_type": "code",
   "execution_count": null,
   "metadata": {},
   "outputs": [
    {
     "ename": "NameError",
     "evalue": "name 'shopCFC246' is not defined",
     "output_type": "error",
     "traceback": [
      "\u001b[1;31m---------------------------------------------------------------------------\u001b[0m",
      "\u001b[1;31mNameError\u001b[0m                                 Traceback (most recent call last)",
      "Cell \u001b[1;32mIn[10], line 3\u001b[0m\n\u001b[0;32m      1\u001b[0m \u001b[38;5;66;03m#Check nº 3\u001b[39;00m\n\u001b[0;32m      2\u001b[0m \u001b[38;5;66;03m# try: echeveria\u001b[39;00m\n\u001b[1;32m----> 3\u001b[0m \u001b[43mshopCFC246\u001b[49m\u001b[38;5;241m.\u001b[39mfind_product(\u001b[38;5;124m\"\u001b[39m\u001b[38;5;124mecheveria\u001b[39m\u001b[38;5;124m\"\u001b[39m)\n",
      "\u001b[1;31mNameError\u001b[0m: name 'shopCFC246' is not defined"
     ]
    }
   ],
   "source": [
    "#Check nº 3\n",
    "# try: echeveria\n",
    "shopCFC246.find_product(\"echeveria\")\n"
   ]
  },
  {
   "cell_type": "code",
   "execution_count": null,
   "metadata": {},
   "outputs": [
    {
     "ename": "NameError",
     "evalue": "name 'shopCFC246' is not defined",
     "output_type": "error",
     "traceback": [
      "\u001b[1;31m---------------------------------------------------------------------------\u001b[0m",
      "\u001b[1;31mNameError\u001b[0m                                 Traceback (most recent call last)",
      "Cell \u001b[1;32mIn[9], line 2\u001b[0m\n\u001b[0;32m      1\u001b[0m \u001b[38;5;66;03m#Check nº 4 # no deberían ser 124??\u001b[39;00m\n\u001b[1;32m----> 2\u001b[0m \u001b[43mshopCFC246\u001b[49m\u001b[38;5;241m.\u001b[39mupdate_stock(\u001b[38;5;124m\"\u001b[39m\u001b[38;5;124maeonium\u001b[39m\u001b[38;5;124m\"\u001b[39m, \u001b[38;5;241m100\u001b[39m)\n\u001b[0;32m      3\u001b[0m \u001b[38;5;28mprint\u001b[39m(shopCFC246\u001b[38;5;241m.\u001b[39minventory)\n",
      "\u001b[1;31mNameError\u001b[0m: name 'shopCFC246' is not defined"
     ]
    }
   ],
   "source": [
    "#Check nº 4 # no deberían ser 124??\n",
    "shopCFC246.update_stock(\"aeonium\", 100)\n",
    "print(shopCFC246.inventory)\n"
   ]
  }
 ],
 "metadata": {
  "kernelspec": {
   "display_name": "Python 3",
   "language": "python",
   "name": "python3"
  },
  "language_info": {
   "codemirror_mode": {
    "name": "ipython",
    "version": 3
   },
   "file_extension": ".py",
   "mimetype": "text/x-python",
   "name": "python",
   "nbconvert_exporter": "python",
   "pygments_lexer": "ipython3",
   "version": "3.13.0"
  }
 },
 "nbformat": 4,
 "nbformat_minor": 2
}
