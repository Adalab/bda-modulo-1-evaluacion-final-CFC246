{
 "cells": [
  {
   "cell_type": "markdown",
   "metadata": {},
   "source": [
    "# CFC246 / Module 1: Final evaluation"
   ]
  },
  {
   "cell_type": "markdown",
   "metadata": {},
   "source": [
    "#### Create a Class for a Shop"
   ]
  },
  {
   "cell_type": "markdown",
   "metadata": {},
   "source": [
    "- The aim of this final exercise is to create a class that works as a layout to build our own shop. This will give us an insight into what we need to improve in our learning process."
   ]
  },
  {
   "cell_type": "code",
   "execution_count": 1,
   "metadata": {},
   "outputs": [],
   "source": [
    "# 0. We're going to define our class to create our own shop, or any shop for that matter. \n",
    "    # We need to create a class and its functions(methods) and objetc to run every aspect of our shop. \n",
    "    # From creating our inventory, to updating it, and to deal with the transactions.\n",
    "\n",
    "class OnlineShop :                                    # Class name with first letter of each word capitalised\n",
    "    def __init__(self):                               # Class is built with the constructor \"__init__\" #function or method\n",
    "        self.inventory = []                           # Inventory attribute # this empty list will allocate the future objects(products) described by a dictionary.\n",
    "        self.customers = {}                           # Customers attribute # this empty list will allocate the future objects(clients) described by a dictionary\n",
    "        self.totalsales = 0.0                         # Total sales attribute #need to be 0 and described with a float\n",
    "        # 1. Add a product to the inventory:                        \n",
    "    def add_products (self, name, price, quantity):   # first function or method to add objects/products to our inventory. Products must have these parameters.\n",
    "        for product in self.inventory:                # check object in attribute\n",
    "            if product [\"name\"] == name:              # product starts to iterate through the list of dictionaries, will stop if the key value is the same \n",
    "                product [\"quantity\"] += quantity      # and add the quantity of the same product.\n",
    "                return\n",
    "        new_product = {\"name\":name, \"price\":price, \"quantity\":quantity}         # if the product is not in inventory\n",
    "        self.inventory.append(new_product)                                      # method to add the new product (object)\n",
    "        # 2.Show the inventory and their details:\n",
    "    def show_inventory (self): \n",
    "        for product in self.inventory:\n",
    "            print(f\"name: {product['name']}, Price: {product['price']}, Quantity: {product['quantity']}\")\n",
    "        # 3. Find product by its name and show their details:    \n",
    "    def find_product (self, name): \n",
    "        for product in self.inventory:\n",
    "            if product [\"name\"] == name:\n",
    "                print(f\"name: {product['name']}, Price: {product['price']}, Quantity: {product['quantity']}\")\n",
    "                return\n",
    "        print(\"Not available\")\n",
    "        # 4. Update the stock. Give the name of the product and quantities to update.      \n",
    "    def update_stock (self, name, quantity): \n",
    "        for product in self.inventory:\n",
    "            if product [\"name\"] == name:\n",
    "                product [\"quantity\"] += quantity\n",
    "                print(f\"Product {name} updated in stock; current quantity {quantity}\")\n",
    "                return \n",
    "        # 5. Remove product from stock. Name as a parameter.           \n",
    "    def remove_stock (self, name):  \n",
    "        for product in self.inventory:\n",
    "            if product [\"name\"] == name:\n",
    "                self.inventory.remove (product)\n",
    "                print (f\"{product} was remove from the shop inventory\")\n",
    "            if product [\"name\"] != name:\n",
    "                print(f\"Product not found\")\n",
    "                return \n",
    "        # 6. Calculate the value of the whole stock.              \n",
    "    def value_stock (self): \n",
    "        inventory_value = 0.0\n",
    "        for product in self.inventory:\n",
    "           product_value = product[\"price\"] * product[\"quantity\"]\n",
    "           inventory_value += product_value\n",
    "           print(f\"Total value of my inventory is {inventory_value}\")\n",
    "        # 7. Checkout. Customer will be able to buy an item.   \n",
    "    def checkout (self):\n",
    "        kart = {}  \n",
    "        total_shop = 0 \n",
    "        while True:\n",
    "            self.show_inventory()\n",
    "            name = input( \"what would you like to shop today? Press 'finish' to end your shopping\")\n",
    "            if name == \"finish\":\n",
    "                break\n",
    "            else:\n",
    "                quantity = int(input(\"How many items do you want to purchase?\"))\n",
    "                for product in self.inventory:\n",
    "                    if name == product[\"name\"]:\n",
    "                        if product[\"quantity\"] >= quantity:\n",
    "                            kart.update({\"name\":name, \"quantity\":quantity})\n",
    "                            total_shop += product[\"price\"] * quantity\n",
    "                            print(f\"These are the products in your {kart} with a total of {total_shop}Euros\")\n",
    "                        else:\n",
    "                            print(\"We don't have stock at the moment :/ \")\n",
    "        # 9.  Add customer:\n",
    "    def add_customer (self, name, email):\n",
    "        for customer in self.customers:\n",
    "            if customer == name: \n",
    "                print(\"Customer already registered\")\n",
    "        self.customers[name] = {'email': email, 'purchases': []}    \n",
    "\n",
    " "
   ]
  },
  {
   "cell_type": "markdown",
   "metadata": {},
   "source": [
    "####  Review all instances of our class OnlineShop with our own shop ShopCFC246"
   ]
  },
  {
   "cell_type": "code",
   "execution_count": 12,
   "metadata": {},
   "outputs": [
    {
     "name": "stdout",
     "output_type": "stream",
     "text": [
      "[]\n"
     ]
    }
   ],
   "source": [
    "shopCFC246 = OnlineShop()\n",
    "print(shopCFC246.inventory)"
   ]
  },
  {
   "cell_type": "code",
   "execution_count": 13,
   "metadata": {},
   "outputs": [
    {
     "name": "stdout",
     "output_type": "stream",
     "text": [
      "[]\n"
     ]
    }
   ],
   "source": [
    "shopCFC246 = OnlineShop()\n",
    "print(shopCFC246.inventory)"
   ]
  },
  {
   "cell_type": "code",
   "execution_count": 14,
   "metadata": {},
   "outputs": [
    {
     "name": "stdout",
     "output_type": "stream",
     "text": [
      "[{'name': 'aeonium', 'price': 10.1, 'quantity': 24}, {'name': 'sempervivum', 'price': 2.3, 'quantity': 50}, {'name': 'crassula', 'price': 7.5, 'quantity': 33}, {'name': 'kalanchoe', 'price': 6.7, 'quantity': 48}]\n"
     ]
    }
   ],
   "source": [
    "#Check nº 1\n",
    "shopCFC246.add_products (\"aeonium\", 10.10, 24)\n",
    "shopCFC246.add_products (\"sempervivum\", 2.30, 50)\n",
    "shopCFC246.add_products (\"crassula\", 7.50, 33)\n",
    "shopCFC246.add_products (\"kalanchoe\", 6.70, 48)\n",
    "print(shopCFC246.inventory)\n"
   ]
  },
  {
   "cell_type": "code",
   "execution_count": 15,
   "metadata": {},
   "outputs": [
    {
     "name": "stdout",
     "output_type": "stream",
     "text": [
      "name: aeonium, Price: 10.1, Quantity: 24\n",
      "name: sempervivum, Price: 2.3, Quantity: 50\n",
      "name: crassula, Price: 7.5, Quantity: 33\n",
      "name: kalanchoe, Price: 6.7, Quantity: 48\n",
      "[{'name': 'aeonium', 'price': 10.1, 'quantity': 24}, {'name': 'sempervivum', 'price': 2.3, 'quantity': 50}, {'name': 'crassula', 'price': 7.5, 'quantity': 33}, {'name': 'kalanchoe', 'price': 6.7, 'quantity': 48}]\n"
     ]
    }
   ],
   "source": [
    "#Check nº 2\n",
    "shopCFC246.show_inventory () \n",
    "print(shopCFC246.inventory)"
   ]
  },
  {
   "cell_type": "code",
   "execution_count": 16,
   "metadata": {},
   "outputs": [
    {
     "name": "stdout",
     "output_type": "stream",
     "text": [
      "Not available\n"
     ]
    }
   ],
   "source": [
    "#Check nº 3\n",
    "# try: echeveria\n",
    "shopCFC246.find_product(\"echeveria\")\n"
   ]
  },
  {
   "cell_type": "code",
   "execution_count": 17,
   "metadata": {},
   "outputs": [
    {
     "name": "stdout",
     "output_type": "stream",
     "text": [
      "Product aeonium updated in stock; current quantity 100\n",
      "[{'name': 'aeonium', 'price': 10.1, 'quantity': 124}, {'name': 'sempervivum', 'price': 2.3, 'quantity': 50}, {'name': 'crassula', 'price': 7.5, 'quantity': 33}, {'name': 'kalanchoe', 'price': 6.7, 'quantity': 48}]\n"
     ]
    }
   ],
   "source": [
    "#Check nº 4 # no deberían ser 124??\n",
    "shopCFC246.update_stock(\"aeonium\", 100)\n",
    "print(shopCFC246.inventory)\n"
   ]
  },
  {
   "cell_type": "code",
   "execution_count": 18,
   "metadata": {},
   "outputs": [
    {
     "name": "stdout",
     "output_type": "stream",
     "text": [
      "Product not found\n",
      "[{'name': 'aeonium', 'price': 10.1, 'quantity': 124}, {'name': 'sempervivum', 'price': 2.3, 'quantity': 50}, {'name': 'crassula', 'price': 7.5, 'quantity': 33}, {'name': 'kalanchoe', 'price': 6.7, 'quantity': 48}]\n"
     ]
    }
   ],
   "source": [
    "#Check nº 5\n",
    "shopCFC246.remove_stock(\"crassula\")\n",
    "print(shopCFC246.inventory)"
   ]
  },
  {
   "cell_type": "code",
   "execution_count": 19,
   "metadata": {},
   "outputs": [
    {
     "name": "stdout",
     "output_type": "stream",
     "text": [
      "Total value of my inventory is 1252.3999999999999\n",
      "Total value of my inventory is 1367.3999999999999\n",
      "Total value of my inventory is 1614.8999999999999\n",
      "Total value of my inventory is 1936.5\n"
     ]
    }
   ],
   "source": [
    "# check nº6\n",
    "shopCFC246.value_stock()"
   ]
  },
  {
   "cell_type": "code",
   "execution_count": 20,
   "metadata": {},
   "outputs": [
    {
     "name": "stdout",
     "output_type": "stream",
     "text": [
      "name: aeonium, Price: 10.1, Quantity: 124\n",
      "name: sempervivum, Price: 2.3, Quantity: 50\n",
      "name: crassula, Price: 7.5, Quantity: 33\n",
      "name: kalanchoe, Price: 6.7, Quantity: 48\n",
      "These are the products in your {'name': 'kalanchoe', 'quantity': 4} with a total of 26.8Euros\n",
      "name: aeonium, Price: 10.1, Quantity: 124\n",
      "name: sempervivum, Price: 2.3, Quantity: 50\n",
      "name: crassula, Price: 7.5, Quantity: 33\n",
      "name: kalanchoe, Price: 6.7, Quantity: 48\n"
     ]
    }
   ],
   "source": [
    "# check nº7\n",
    "shopCFC246.checkout()"
   ]
  },
  {
   "cell_type": "code",
   "execution_count": 21,
   "metadata": {},
   "outputs": [
    {
     "name": "stdout",
     "output_type": "stream",
     "text": [
      "{'John Doe': {'email': 'johndoe@mail.com', 'purchases': []}}\n"
     ]
    }
   ],
   "source": [
    "# check nº9 \n",
    "shopCFC246.add_customer(\"John Doe\",\"johndoe@mail.com\")\n",
    "print(shopCFC246.customers)"
   ]
  }
 ],
 "metadata": {
  "kernelspec": {
   "display_name": "Python 3",
   "language": "python",
   "name": "python3"
  },
  "language_info": {
   "codemirror_mode": {
    "name": "ipython",
    "version": 3
   },
   "file_extension": ".py",
   "mimetype": "text/x-python",
   "name": "python",
   "nbconvert_exporter": "python",
   "pygments_lexer": "ipython3",
   "version": "3.13.0"
  }
 },
 "nbformat": 4,
 "nbformat_minor": 2
}
