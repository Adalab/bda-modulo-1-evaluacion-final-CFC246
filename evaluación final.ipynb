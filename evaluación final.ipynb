{
 "cells": [
  {
   "cell_type": "markdown",
   "metadata": {},
   "source": [
    "# CFC246 / Module 1: Final evaluation"
   ]
  },
  {
   "cell_type": "markdown",
   "metadata": {},
   "source": [
    "#### Create a Class for a Shop"
   ]
  },
  {
   "cell_type": "markdown",
   "metadata": {},
   "source": [
    "- The aim of this final exercise is to create a class that works as a layout to build our own shop. This will give us an insight into what we need to improve in our learning process."
   ]
  },
  {
   "cell_type": "code",
   "execution_count": null,
   "metadata": {},
   "outputs": [],
   "source": [
    "# 0. We're going to define our class to create our own shop, or any shop for that matter. \n",
    "    # We need to create a class and its functions(methods) and objetc to run every aspect of our shop. \n",
    "    # From creating our inventory, to updating it, and to deal with the transactions.\n",
    "\n",
    "class OnlineShop :                                    # Class name with first letter of each word capitalised\n",
    "    def __init__(self):                               # Class is built with the constructor \"__init__\" #function or method\n",
    "        self.inventory = []                           # Inventory attribute # this empty list will allocate the future objects(products) described by a dictionary.\n",
    "        self.customers = {}                           # Customers attribute # this will allocate the future objects(clients) described by a dictionary\n",
    "        self.totalsales = 0.0                         # Total sales attribute #need to be 0 and described with a float (decimal number)\n",
    "        # 1. Add a product to the inventory:                        \n",
    "    def add_products (self, name, price, quantity):   # first function or method to add objects/products to our inventory. Products must have these parameters.\n",
    "        for product in self.inventory:                # check object in attribute\n",
    "            if product [\"name\"] == name:              # product starts to iterate through the list of dictionaries, will stop if the key value is the same \n",
    "                product [\"quantity\"] += quantity      # and add the quantity of the same product.\n",
    "                return\n",
    "        new_product = {\"name\":name, \"price\":price, \"quantity\":quantity}         # if the product is not in inventory\n",
    "        self.inventory.append(new_product)                                      # method to add the new product (object)\n",
    "        # 2.Show the inventory and their details:\n",
    "    def show_inventory (self):                                                                                  #function/ method to define action to show the inventory\n",
    "        for product in self.inventory:                                                                          #loop to run in the inventory. Product will iterate self.inventory as a dicctionary\n",
    "            print(f\"name: {product['name']}, Price: {product['price']}, Quantity: {product['quantity']}\")\n",
    "        # 3. Find product by its name and show their details:    \n",
    "    def find_product (self, name):                                                                            # function or method to find products our shop. \n",
    "        for product in self.inventory:                                                                        # for loop to run in the inventory.\n",
    "            if product [\"name\"] == name:                                                                      # \"name\" will itarete through the keys in the dicctionarie product\n",
    "                print(f\"name: {product['name']}, Price: {product['price']}, Quantity: {product['quantity']}\") # will print product if it matches result in the inventory n\n",
    "                return                                                                                        # We need to stop the for loop once we find the product\n",
    "        print(\"Not available\")\n",
    "        # 4. Update the stock. Give the name of the product and quantities to update.      \n",
    "    def update_stock (self, name, quantity):                                               # function or method to update the quiantity of a product\n",
    "        for product in self.inventory:                                                     # for loop to run in the inventory.\n",
    "            if product [\"name\"] == name:\n",
    "                product [\"quantity\"] += quantity                                           # += is the optimal form to sum elements. It saves us to write complicated code \n",
    "                print(f\"Product {name} updated in stock with {quantity} units\")            \n",
    "                return \n",
    "        # 5. Remove product from stock. Name as a parameter.           \n",
    "    def remove_stock (self, name):                                                         # function or method to remove a product from our inventory\n",
    "        for product in self.inventory:\n",
    "            if product [\"name\"] == name:\n",
    "                self.inventory.remove (product)\n",
    "                print (f\"{product} was remove from the shop inventory\")\n",
    "            if product [\"name\"] != name:\n",
    "                print(f\"Product not found\")\n",
    "                return \n",
    "        # 6. Calculate the value of the whole stock.              \n",
    "    def value_stock (self): \n",
    "        inventory_value = 0.0\n",
    "        for product in self.inventory:\n",
    "           product_value = product[\"price\"] * product[\"quantity\"]\n",
    "           inventory_value += product_value\n",
    "           print(f\"Total value of my inventory is {inventory_value}\")\n",
    "        # 7. Checkout. Customer will be able to buy an item.   \n",
    "    def checkout (self):\n",
    "        kart = {}  \n",
    "        total_shop = 0 \n",
    "        while True:\n",
    "            self.show_inventory()\n",
    "            name = input( \"what would you like to shop today? Press 'finish' to end your shopping\")\n",
    "            if name == \"finish\":\n",
    "                break\n",
    "            else:\n",
    "                quantity = int(input(\"How many items do you want to purchase?\"))\n",
    "                for product in self.inventory:\n",
    "                    if name == product[\"name\"]:\n",
    "                        if product[\"quantity\"] >= quantity:\n",
    "                            kart.update({\"name\":name, \"quantity\":quantity})\n",
    "                            total_shop += product[\"price\"] * quantity\n",
    "                            print(f\"These are the products in your kart {kart} with a total of {total_shop} Euros\")\n",
    "                        else:\n",
    "                            print(\"We don't have stock at the moment :/ \")\n",
    "        # 9.  Add customer:\n",
    "    def add_customer (self, name, email):\n",
    "        for customer in self.customers:\n",
    "            if customer == name: \n",
    "                print(\"Customer already registered\")\n",
    "        self.customers[name] = {'email': email, 'purchases': []}    \n",
    "\n",
    " "
   ]
  },
  {
   "cell_type": "markdown",
   "metadata": {},
   "source": [
    "####  Review all instances of our class OnlineShop with our own shop ShopCFC246 to check if the class is working properly."
   ]
  },
  {
   "cell_type": "code",
   "execution_count": 34,
   "metadata": {},
   "outputs": [
    {
     "name": "stdout",
     "output_type": "stream",
     "text": [
      "[]\n"
     ]
    }
   ],
   "source": [
    "shopCFC246 = OnlineShop()\n",
    "print(shopCFC246.inventory)"
   ]
  },
  {
   "cell_type": "code",
   "execution_count": 35,
   "metadata": {},
   "outputs": [
    {
     "name": "stdout",
     "output_type": "stream",
     "text": [
      "[]\n"
     ]
    }
   ],
   "source": [
    "shopCFC246 = OnlineShop()\n",
    "print(shopCFC246.inventory)"
   ]
  },
  {
   "cell_type": "code",
   "execution_count": 56,
   "metadata": {},
   "outputs": [
    {
     "name": "stdout",
     "output_type": "stream",
     "text": [
      "[{'name': 'aeonium', 'price': 10.1, 'quantity': 148}, {'name': 'sempervivum', 'price': 2.3, 'quantity': 100}, {'name': 'crassula', 'price': 7.5, 'quantity': 66}, {'name': 'kalanchoe', 'price': 6.7, 'quantity': 96}]\n"
     ]
    }
   ],
   "source": [
    "#Check nº 1\n",
    "shopCFC246.add_products (\"aeonium\", 10.10, 24)\n",
    "shopCFC246.add_products (\"sempervivum\", 2.30, 50)\n",
    "shopCFC246.add_products (\"crassula\", 7.50, 33)\n",
    "shopCFC246.add_products (\"kalanchoe\", 6.70, 48)\n",
    "print(shopCFC246.inventory)\n"
   ]
  },
  {
   "cell_type": "code",
   "execution_count": 37,
   "metadata": {},
   "outputs": [
    {
     "name": "stdout",
     "output_type": "stream",
     "text": [
      "name: aeonium, Price: 10.1, Quantity: 24\n",
      "name: sempervivum, Price: 2.3, Quantity: 50\n",
      "name: crassula, Price: 7.5, Quantity: 33\n",
      "name: kalanchoe, Price: 6.7, Quantity: 48\n",
      "[{'name': 'aeonium', 'price': 10.1, 'quantity': 24}, {'name': 'sempervivum', 'price': 2.3, 'quantity': 50}, {'name': 'crassula', 'price': 7.5, 'quantity': 33}, {'name': 'kalanchoe', 'price': 6.7, 'quantity': 48}]\n"
     ]
    }
   ],
   "source": [
    "#Check nº 2\n",
    "shopCFC246.show_inventory () \n",
    "print(shopCFC246.inventory)"
   ]
  },
  {
   "cell_type": "code",
   "execution_count": 38,
   "metadata": {},
   "outputs": [
    {
     "name": "stdout",
     "output_type": "stream",
     "text": [
      "Not available\n"
     ]
    }
   ],
   "source": [
    "#Check nº 3\n",
    "# try: echeveria\n",
    "shopCFC246.find_product(\"echeveria\")\n"
   ]
  },
  {
   "cell_type": "code",
   "execution_count": 58,
   "metadata": {},
   "outputs": [
    {
     "name": "stdout",
     "output_type": "stream",
     "text": [
      "Product aeonium updated in stock with 100\n",
      "[{'name': 'aeonium', 'price': 10.1, 'quantity': 248}, {'name': 'sempervivum', 'price': 2.3, 'quantity': 100}, {'name': 'crassula', 'price': 7.5, 'quantity': 66}, {'name': 'kalanchoe', 'price': 6.7, 'quantity': 96}]\n"
     ]
    }
   ],
   "source": [
    "#Check nº 4 # Prodcut updated with 100 units. Total units = 124.\n",
    "shopCFC246.update_stock(\"aeonium\", 100)\n",
    "print(shopCFC246.inventory)\n"
   ]
  },
  {
   "cell_type": "code",
   "execution_count": 54,
   "metadata": {},
   "outputs": [
    {
     "name": "stdout",
     "output_type": "stream",
     "text": [
      "Product not found\n"
     ]
    }
   ],
   "source": [
    "#Check nº 5\n",
    "shopCFC246.remove_stock(\"crassula\")\n"
   ]
  },
  {
   "cell_type": "code",
   "execution_count": 59,
   "metadata": {},
   "outputs": [
    {
     "name": "stdout",
     "output_type": "stream",
     "text": [
      "Total value of my inventory is 2504.7999999999997\n",
      "Total value of my inventory is 2734.7999999999997\n",
      "Total value of my inventory is 3229.7999999999997\n",
      "Total value of my inventory is 3873.0\n"
     ]
    }
   ],
   "source": [
    "# check nº6\n",
    "shopCFC246.value_stock()"
   ]
  },
  {
   "cell_type": "code",
   "execution_count": 51,
   "metadata": {},
   "outputs": [
    {
     "name": "stdout",
     "output_type": "stream",
     "text": [
      "name: aeonium, Price: 10.1, Quantity: 124\n",
      "name: sempervivum, Price: 2.3, Quantity: 50\n",
      "name: crassula, Price: 7.5, Quantity: 33\n",
      "name: kalanchoe, Price: 6.7, Quantity: 48\n"
     ]
    },
    {
     "ename": "ValueError",
     "evalue": "invalid literal for int() with base 10: ''",
     "output_type": "error",
     "traceback": [
      "\u001b[1;31m---------------------------------------------------------------------------\u001b[0m",
      "\u001b[1;31mValueError\u001b[0m                                Traceback (most recent call last)",
      "Cell \u001b[1;32mIn[51], line 2\u001b[0m\n\u001b[0;32m      1\u001b[0m \u001b[38;5;66;03m# check nº7\u001b[39;00m\n\u001b[1;32m----> 2\u001b[0m \u001b[43mshopCFC246\u001b[49m\u001b[38;5;241;43m.\u001b[39;49m\u001b[43mcheckout\u001b[49m\u001b[43m(\u001b[49m\u001b[43m)\u001b[49m\n",
      "Cell \u001b[1;32mIn[33], line 62\u001b[0m, in \u001b[0;36mOnlineShop.checkout\u001b[1;34m(self)\u001b[0m\n\u001b[0;32m     60\u001b[0m     \u001b[38;5;28;01mbreak\u001b[39;00m\n\u001b[0;32m     61\u001b[0m \u001b[38;5;28;01melse\u001b[39;00m:\n\u001b[1;32m---> 62\u001b[0m     quantity \u001b[38;5;241m=\u001b[39m \u001b[38;5;28;43mint\u001b[39;49m\u001b[43m(\u001b[49m\u001b[38;5;28;43minput\u001b[39;49m\u001b[43m(\u001b[49m\u001b[38;5;124;43m\"\u001b[39;49m\u001b[38;5;124;43mHow many items do you want to purchase?\u001b[39;49m\u001b[38;5;124;43m\"\u001b[39;49m\u001b[43m)\u001b[49m\u001b[43m)\u001b[49m\n\u001b[0;32m     63\u001b[0m     \u001b[38;5;28;01mfor\u001b[39;00m product \u001b[38;5;129;01min\u001b[39;00m \u001b[38;5;28mself\u001b[39m\u001b[38;5;241m.\u001b[39minventory:\n\u001b[0;32m     64\u001b[0m         \u001b[38;5;28;01mif\u001b[39;00m name \u001b[38;5;241m==\u001b[39m product[\u001b[38;5;124m\"\u001b[39m\u001b[38;5;124mname\u001b[39m\u001b[38;5;124m\"\u001b[39m]:\n",
      "\u001b[1;31mValueError\u001b[0m: invalid literal for int() with base 10: ''"
     ]
    }
   ],
   "source": [
    "# check nº7\n",
    "shopCFC246.checkout()"
   ]
  },
  {
   "cell_type": "code",
   "execution_count": null,
   "metadata": {},
   "outputs": [
    {
     "name": "stdout",
     "output_type": "stream",
     "text": [
      "{'John Doe': {'email': 'johndoe@mail.com', 'purchases': []}}\n"
     ]
    }
   ],
   "source": [
    "# check nº9 \n",
    "shopCFC246.add_customer(\"John Doe\",\"johndoe@mail.com\")\n",
    "print(shopCFC246.customers)"
   ]
  }
 ],
 "metadata": {
  "kernelspec": {
   "display_name": "Python 3",
   "language": "python",
   "name": "python3"
  },
  "language_info": {
   "codemirror_mode": {
    "name": "ipython",
    "version": 3
   },
   "file_extension": ".py",
   "mimetype": "text/x-python",
   "name": "python",
   "nbconvert_exporter": "python",
   "pygments_lexer": "ipython3",
   "version": "3.13.0"
  }
 },
 "nbformat": 4,
 "nbformat_minor": 2
}
